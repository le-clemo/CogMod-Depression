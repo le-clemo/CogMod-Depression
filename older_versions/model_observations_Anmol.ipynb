{
 "cells": [
  {
   "cell_type": "markdown",
   "metadata": {},
   "source": [
    "## Problems for production rules\n",
    "\n",
    "1. Sometimes Add-to-Memory is not called at all because High 1/2/3/4 is not called while at others when a new word is shown the model starts rehearsing without adding the word to memory first.\n",
    "   Logically the present word should be added to the memory first with the current word having highest activation.\n",
    "   The items are however added to the memory by implicit addition on buffer clearance.\n",
    "   \n",
    "       Assumption: The item's added to DM by implicit clearance has low activation hence are not rehearsed properly. \n",
    "       Solution: Make sure each word is added via a production and see if it changes the activation values.\n",
    "   \n",
    "2. Attend Word is not getting called for each new word, and High 1/2/3/4 and subsequently Add-to-Memory 1/2/3/4 are called after ELSE_new PR."
   ]
  },
  {
   "cell_type": "markdown",
   "metadata": {},
   "source": [
    "# Main Problems\n",
    "\n",
    "1. Item reahearsal is not correct. The recently shown item should be more rehearsed.\n",
    "\n",
    "2. The Recall fails many a times.\n",
    "\n",
    "    - :esc : Subsymbolic Computations are true.\n",
    "    - :rt : Retrieval Threshold is -1.\n",
    "        - Changed to -0.5 : Sometimes only 1 word is recalled.\n",
    "        - Changes to -0.1 : NO effect"
   ]
  },
  {
   "cell_type": "markdown",
   "metadata": {},
   "source": [
    "# Try adding this cannot recall production to know the retrieval failure.\n",
    "(p cannot-recall\n",
    "    =goal>\n",
    "      isa      goal \n",
    "      state    testing\n",
    "    ?retrieval>\n",
    "      buffer   failure\n",
    "    ?visual>\n",
    "      state    free\n",
    "   ==>\n",
    "    =goal>\n",
    "     state    read-study-item\n",
    "    +visual>\n",
    "     cmd      clear\n",
    ")"
   ]
  },
  {
   "cell_type": "markdown",
   "metadata": {},
   "source": [
    "## If the rehearsal is supposed to be from the positions as we are putting the positionas first for every word in Add-to-Memory then we should not care about the word and the tag and should always start from Position 1."
   ]
  },
  {
   "cell_type": "markdown",
   "metadata": {},
   "source": [
    "## Utility of High-Third is maximum why? It will always be chosen first. Maybe because it was already chosen check again."
   ]
  },
  {
   "cell_type": "markdown",
   "metadata": {},
   "source": [
    "\n",
    "\n",
    "## First Word shown:  Find Unattented Word -> Attend Word -> Randomly choose a tag for the word via PR High 1/2/3/4 (but utility of high thirs i max so always chosen) -> Let's say chosen tag is THIRD (so now this word is on THIRD slot and put this on the 1st position of the memory of the model) -> Add-to-memory the chosen high tag (THIRD) -> \n",
    "\n",
    "Keep Rehearsing the shown word (tag 3) starting from the first position to the fourth cyclically. (Basically start rehearsal from first position to the fourth position) [So the position is for the model not the word, the model starts looking at the first position and moves on to the next positions]\n",
    "    Skip Rehearsal for rest of the positions starting from 1 and 2(why is position and F/S/T/Fo slots have a connection here while at other places they seem     independent?) via skip-first and skip-second PR - > \n",
    "    Rehearse the chosen high(THIRD) and make the Position 4th (from earlier 1st) -> \n",
    "    skip this rehearsal for THIRD slot via SKIP-REHEARSE production -> \n",
    "    Skip the FOURTH slot vis skip-fourth PR -> \n",
    "    \n",
    "Basically we tag the word (ex:THIRD) randomly. Add the tagged word to memory. Put the word at different positions, choose it if tag==position otherwise skip. CORRECTION: (No need for position slot in Add-to-Memory then rule). After choosing the tag and position either REHEARSE-IT or SKIP-REHEARSAL. Keeps rehearsing it until next word is shown.\n",
    "\n"
   ]
  },
  {
   "cell_type": "markdown",
   "metadata": {},
   "source": [
    "## Second Word  Shown\n",
    "\n",
    "Still the state of the goal buffer remains \"REHEARSE\" so it keeps rehearsing while the model tries to auto-encode the word. \n",
    "Till then it Skips first and second.\n",
    "# CORRECTION: Encoding completes Visual Buffer is now not empty still it moves on to the Rehearse-Third production instead of High 1/2/3/4. (Reason goal state !=Attend)\n",
    "\n",
    "\n",
    "ELSE_NEW fires out of the conflict resolution of ELSE_NEW (state rehearse and visual buffer free)and SKIP-FOURTH(state rehearse, fourth NIL position fourth).\n",
    "# PROBLEM: ELSE_NEW is probably chosen randomly which is why sometimes it keeps on rehearsing instead of adding it to memory.\n",
    "\n",
    "ELSE_NEW sets the state to Attend and then it can choose any tag from 1/2 and 4 since third is occupied by the first word.\n",
    "\n",
    "NOW REHEARSAL will cyclically rehearse the 2nd and 3rd word.\n",
    "# PROBLEM: The model is choosing SKIP_REHEARSAL more for the REHEARSE_SECOND than for REHEARSE_FIRST. If it all SKIP_REHEARSAL should be there then it should be opposite it should skip rehearsal of older words instead of newer ones.\n",
    "\n",
    "\n",
    "\n",
    "\n",
    "\n",
    "\n"
   ]
  },
  {
   "cell_type": "markdown",
   "metadata": {},
   "source": [
    "## Third word shown\n",
    "\n",
    "1. PROC DISPLAY\n",
    "2. REHEARSAL normal; skip first, STOP\n",
    "3. ENCODING COMPLETE\n",
    "4. REHEARSE SECOND fires\n",
    "# PROBLEM 5. ELSE_NEW fires instead of REHEARSE_THIRD, again if rehearse third fires PROBLEM\n",
    "6. HIGH 4/1: 4 chosen\n",
    "7. Add-to-Memory-4 \n",
    "8. Usual Rehearsal Cycle again skip rehearsal is there but not a big problem though\n"
   ]
  },
  {
   "cell_type": "markdown",
   "metadata": {},
   "source": [
    "## Fourth Word Shown\n",
    "1. Same Process as in other words, Rehearses 2/3/4 as 1st position is empty as the word was not added to the memory.\n",
    "\n",
    "\n"
   ]
  },
  {
   "cell_type": "markdown",
   "metadata": {},
   "source": [
    "## Fifth Word Shown\n",
    "1. Skip Rehearse called\n",
    "2. Rehearse 4th\n",
    "3. Skip Rehearse called instead of Else_New hence not added to the memory.\n"
   ]
  },
  {
   "cell_type": "markdown",
   "metadata": {},
   "source": [
    "## Recall Started\n",
    "\n",
    "1. Start Recall is called\n",
    "2. Choose-third is selected based on the utlity value.(out of choose-1/2/3/4)\n",
    "3. Retrieve Third (Retrieval Buffer retrieves all chunks (2,3,4) in memory as 1st and 5th is not added to memory.The target slot defined what to report as the target here is THIRD.)\n",
    "4. Harvest Third\n",
    "5. Retrieve and Harvest Fourth \n",
    "# PROBLEM 6. Recall Stopped (All three words in memory are not recalled)\n",
    "# PROBLEM HARVEST FOURTH always stops recall since it makes the position NIL,\n",
    "    ## Why not keep recalling just like rehearsing?\n",
    "    \n"
   ]
  },
  {
   "cell_type": "markdown",
   "metadata": {},
   "source": [
    "## Control Flow\n",
    "\n",
    "1. Words are shown in order: True\n",
    "\n",
    "2. The first word is the most rehearsed so we can guarantee Primacy effect.\n",
    "\n",
    "3. After the first word, the words are rehearsed in random? order.\n",
    "\n",
    "4. For recency (and usually as well) the activation of the current word should be highest so that it can be rehearsed.\n",
    "\n"
   ]
  },
  {
   "cell_type": "markdown",
   "metadata": {},
   "source": [
    "# Observations For another 5 word list"
   ]
  },
  {
   "cell_type": "markdown",
   "metadata": {},
   "source": [
    "Why is :blc 0 and what is blc?"
   ]
  },
  {
   "cell_type": "markdown",
   "metadata": {},
   "source": [
    "Check effect of :recently-retrieved : No effect till now"
   ]
  },
  {
   "cell_type": "markdown",
   "metadata": {},
   "source": [
    "Check effect of :declarative-num-finsts and :declarative-finsts-span : No effect till now"
   ]
  },
  {
   "cell_type": "markdown",
   "metadata": {},
   "source": [
    "Check the value of noise (:ans) should it be as high as 0.1 (ranges from -.1 to +.1)"
   ]
  },
  {
   "cell_type": "code",
   "execution_count": null,
   "metadata": {},
   "outputs": [],
   "source": []
  }
 ],
 "metadata": {
  "kernelspec": {
   "display_name": "Python 3",
   "language": "python",
   "name": "python3"
  },
  "language_info": {
   "codemirror_mode": {
    "name": "ipython",
    "version": 3
   },
   "file_extension": ".py",
   "mimetype": "text/x-python",
   "name": "python",
   "nbconvert_exporter": "python",
   "pygments_lexer": "ipython3",
   "version": "3.7.4"
  }
 },
 "nbformat": 4,
 "nbformat_minor": 4
}
