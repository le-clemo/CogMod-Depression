{
 "cells": [
  {
   "cell_type": "markdown",
   "metadata": {},
   "source": [
    "## Backup Reminder : DO IT!"
   ]
  },
  {
   "cell_type": "code",
   "execution_count": 1,
   "metadata": {},
   "outputs": [
    {
     "name": "stdout",
     "output_type": "stream",
     "text": [
      "ACT-R connection has been started.\n"
     ]
    }
   ],
   "source": [
    "# All the necessary imports\n",
    "import actr\n",
    "import pickle\n",
    "import random\n",
    "import os\n",
    "import sys\n",
    "import numpy as np\n",
    "import matplotlib.pyplot as plt\n",
    "from collections import defaultdict\n",
    "from itertools import groupby"
   ]
  },
  {
   "cell_type": "markdown",
   "metadata": {},
   "source": [
    "## Experiment Logs\n",
    "    - 10th June 2020: 06:50am\n",
    "        - Testing the plotting function.\n",
    "        - Backing up the code to github: Done\n",
    "        "
   ]
  },
  {
   "cell_type": "markdown",
   "metadata": {},
   "source": [
    "## Control Flow Logs\n",
    "    - Flow of the program in simple words\n",
    "        -Need to understand the ACT-R Model first \n",
    "    - Data Structures, their shapes and the purpose of their existence"
   ]
  },
  {
   "cell_type": "markdown",
   "metadata": {},
   "source": [
    "#### Word lists do not contain actual words?\n",
    "    No they don't, we will do this in later experiment\n",
    "#### Number of words in each list i.e. list_length should be n where (n-2)%3 == 0 because 2 neutral words are added in each list.\n",
    "\n",
    "#### The adjustable parameters in this experiment code.\n",
    "    - Number of lists\n",
    "    - Number of words in each list\n",
    "    - The time taken for rehearsal (6 + delay of .5 seconds) and recall(10)\n",
    "#### Adjustable parameters in ACT-R\n",
    "    - :declarative-num-finsts 21 ; number of items that are kept as recently retrieved (Change it to 5) \n",
    "    - :declarative-finst-span 21 ; how long items stay in the recently-retrieved state (5,100)"
   ]
  },
  {
   "cell_type": "code",
   "execution_count": 2,
   "metadata": {},
   "outputs": [],
   "source": [
    "### Experiment part ###\n",
    "\n",
    "subject = ''\n",
    "\n",
    "current_list = ''\n",
    "\n",
    "recalled_words = defaultdict(list)\n",
    "\n",
    "rehearsed_words =  defaultdict(lambda: defaultdict(int))\n",
    "\n",
    "list_amount = 50    # No of lists\n",
    "\n",
    "list_length = 83    # No of words in a list\n",
    "\n",
    "rehearsal_time = 6  # No of seconds for which rehearsal happens and each word is shown\n",
    "\n",
    "delay = 0.5  #delay between rehearsal and recall\n",
    "\n",
    "recall_time = 10 "
   ]
  },
  {
   "cell_type": "code",
   "execution_count": 3,
   "metadata": {},
   "outputs": [],
   "source": [
    "word_lists_dict = defaultdict(list)\n",
    "\n",
    "# Ensure there are enough unique words to create the word lists\n",
    "word_dict = {\"positive\": [\"positive\" + str(i) for i in range(999)],\n",
    "             \"negative\": [\"negative\" + str(i) for i in range(999)],\n",
    "             \"neutral\": [\"neutral\" + str(i) for i in range(999)]}"
   ]
  },
  {
   "cell_type": "code",
   "execution_count": 4,
   "metadata": {},
   "outputs": [],
   "source": [
    "def add_words(i, list_length):\n",
    "    '''\n",
    "    Add the words to the word lists, ensures valence categories are balanced\n",
    "    '''\n",
    "    global word_lists_dict\n",
    "\n",
    "    amnt_wanted = (list_length -2)/3   # Amount of each valence wanted, minus 2 neutrals controlling for primacy\n",
    "    amt_positive, amt_negative, amt_neutral, count = 0, 0, 0, 0\n",
    "    while len(word_lists_dict[i]) != list_length:\n",
    "        count += 1\n",
    "        #print(f\"...................{count,word_lists_dict[i]}\")\n",
    "        if count >= 9999: # IF it takes too long to create a unique list at random, start over\n",
    "            word_lists_dict[i] = []\n",
    "            add_words(i, list_length)\n",
    "        if len(word_lists_dict[i]) == 0: # Place two neutral words at the start to control for primacy effects\n",
    "            word_to_add1 = word_dict[\"neutral\"][random.randint(0, len(word_dict[\"neutral\"])-1)]\n",
    "            word_to_add2 = word_dict[\"neutral\"][random.randint(0, len(word_dict[\"neutral\"])-1)]\n",
    "            if word_to_add1 not in word_lists_dict[i] and word_to_add2 not in word_lists_dict[i] and word_to_add1 != word_to_add2:\n",
    "                word_lists_dict[i].append(word_to_add1)\n",
    "                word_lists_dict[i].append(word_to_add2)\n",
    "            else:\n",
    "                continue # skip this loop iteration                   \n",
    "        else: \n",
    "            random_valence = random.choice([\"positive\", \"negative\", \"neutral\"])\n",
    "            word_to_add = word_dict[random_valence][random.randint(0, len(word_dict[random_valence])-1)]\n",
    "            if word_to_add not in word_lists_dict[i] and word_lists_dict[i][-1] not in word_dict[random_valence] and \\\n",
    "               amt_positive <= amnt_wanted and amt_negative <= amnt_wanted and amt_neutral <= amnt_wanted:\n",
    "                if random_valence == \"positive\" and amt_positive < amnt_wanted:\n",
    "                    amt_positive += 1\n",
    "                elif random_valence == \"negative\" and amt_negative < amnt_wanted:\n",
    "                    amt_negative +=1\n",
    "                elif random_valence == \"neutral\" and amt_neutral < amnt_wanted:\n",
    "                    amt_neutral +=1\n",
    "                else:\n",
    "                    continue # skip this loop iteration\n",
    "                word_lists_dict[i].append(word_to_add)"
   ]
  },
  {
   "cell_type": "code",
   "execution_count": 5,
   "metadata": {},
   "outputs": [],
   "source": [
    "def create_lists(list_amount=3, list_length=2):\n",
    "    '''\n",
    "    Create the wordlists used during the free recall tasks \n",
    "    '''  \n",
    "    global word_lists_dict \n",
    "\n",
    "    for i in range(list_amount):\n",
    "        print(f'List {i+1}/{list_amount} created!', end=\"\\r\")\n",
    "        add_words(i, list_length)\n",
    "\n",
    "    # Save the dictionary to a .pickle file, so we do not have to create the word lists everytime we run the model                    \n",
    "    file = open(f\"word_lists\\word_lists_dict_{list_length}_{list_amount}.pickle\",\"wb\")\n",
    "    pickle.dump(word_lists_dict, file)\n",
    "    file.close()\n",
    "    return word_lists_dict"
   ]
  },
  {
   "cell_type": "code",
   "execution_count": 6,
   "metadata": {},
   "outputs": [
    {
     "name": "stdout",
     "output_type": "stream",
     "text": [
      "\n",
      "Creating word lists!\n",
      "\n",
      "List 50/50 created!\r"
     ]
    }
   ],
   "source": [
    "# Check if the word lists already exist, else create new word lists\n",
    "try:\n",
    "    file = open(f\"word_lists\\word_lists_dict_{list_length}_{list_amount}.pickle\",\"rb\")\n",
    "    #file = open(f\"word_lists_dict_100_items_only.pickle\",\"rb\")\n",
    "    word_lists_dict = pickle.load(file)  \n",
    "    file.close()\n",
    "    print(\"\\nSuccesfully loaded the word lists!\\n\")\n",
    "except FileNotFoundError:\n",
    "    print(\"\\nCreating word lists!\\n\")\n",
    "    #amount_to_create = list_amount                              \n",
    "    word_lists_dict = create_lists(list_amount,list_length)"
   ]
  },
  {
   "cell_type": "code",
   "execution_count": 7,
   "metadata": {},
   "outputs": [],
   "source": [
    "def display_word_lists():\n",
    "    '''\n",
    "    Display the word lists loaded/created\n",
    "    '''\n",
    "    for key, value in word_lists_dict.items():\n",
    "        print(f'List {key}:\\n {value}\\n')\n",
    "\n",
    "def close_exp_window():\n",
    "    '''\n",
    "    Close opened ACT-R window\n",
    "    '''\n",
    "    return actr.current_connection.evaluate_single(\"close-exp-window\")"
   ]
  },
  {
   "cell_type": "code",
   "execution_count": 8,
   "metadata": {},
   "outputs": [],
   "source": [
    "def prepare_for_recall(): \n",
    "    '''\n",
    "    Disable rehearsing productions, and clearing buffer contents to start the recalling phase \n",
    "    '''\n",
    "    disable_list = [\"rehearse-first\", \"rehearse-second\", \"rehearse-third\", \"rehearse-fourth\", \n",
    "                    \"rehearse-it\", \"skip-first\", \"skip-second\", \"skip-third\", \"skip-fourth\"]\n",
    "    for prod in disable_list:\n",
    "        actr.pdisable(prod)\n",
    "    actr.run(1, False) \n",
    "    for buff in [\"imaginal\", \"retrieval\", \"production\"]:\n",
    "        actr.clear_buffer(buff)  "
   ]
  },
  {
   "cell_type": "code",
   "execution_count": 9,
   "metadata": {},
   "outputs": [],
   "source": [
    "def setup_dm(word_list):\n",
    "    '''\n",
    "    Add words to declarative memory, since it can be assumed the test subjects know the English language already\n",
    "    '''\n",
    "    #print(\"\\n\\n############################################# Inside setup_dm i.e. Declarative Memory\")\n",
    "     \n",
    "    colour_conversion = {'pos': 'GREEN', 'neg': 'RED', 'neu': 'BLACK'}\n",
    "    for idx, word in enumerate(word_list):\n",
    "        valence = ''.join([char for char in word if not char.isdigit()])[:3]\n",
    "        actr.add_dm(('item'+str(idx), 'isa', 'memory', 'word', \"'\"+word+\"'\", 'valence', colour_conversion[valence]))\n",
    "#         if idx == 0:\n",
    "#             print(\"\\n Emaple of a chunk added in Declarative Memory is \\n\")\n",
    "#             print('item'+str(idx), 'isa', 'memory', 'word', \"'\"+word+\"'\", 'valence', colour_conversion[valence],\"\\n\")\n",
    "        "
   ]
  },
  {
   "cell_type": "code",
   "execution_count": 10,
   "metadata": {},
   "outputs": [],
   "source": [
    "def setup_experiment(human=True):\n",
    "    '''\n",
    "    Load the correct ACT-R model, and create a window to display the words\n",
    "    '''\n",
    "#     print(\"\\n\\n############################################# Inside setup_experiment\")\n",
    "#     print(f'\\nSubject = {subject}\\n')  \n",
    "\n",
    "    loaded = None\n",
    "    if subject == \"controls\":\n",
    "        loaded = actr.load_act_r_model(r\"C:\\Users\\cleme\\Documents\\Education\\RUG\\First-Year_Research\\My_Project\\Model\\csm_free_recall_model_test.lisp\")\n",
    "    elif subject == \"depressed\":\n",
    "        loaded = actr.load_act_r_model(r\"C:\\Users\\cleme\\Documents\\Education\\RUG\\First-Year_Research\\My_Project\\Model\\csm_free_recall_model_depressed.lisp\")\n",
    "\n",
    "    #print(\"\\n\\n############################################# Inside setup_experiment\")\n",
    "    #print(f'\\nLoaded Act-r model = {loaded}\\n')  \n",
    "\n",
    "\n",
    "\n",
    "    window = actr.open_exp_window(\"Free Recall Experiment\", width=1024, height=768, visible=human) # 15inch resolution window\n",
    "    actr.install_device(window) \n",
    "    return window    "
   ]
  },
  {
   "cell_type": "code",
   "execution_count": 11,
   "metadata": {},
   "outputs": [],
   "source": [
    "def record_words_recalled(item):\n",
    "    '''\n",
    "    Register which words were recalled during the experiment for a specific wordlist and strip the numbers\n",
    "    '''\n",
    "    valence = ''.join(char for char in item if not char.isdigit())\n",
    "    item_idx = ''.join(char for char in item if char.isdigit())\n",
    "    recalled_words[current_list].append((valence, item_idx))\n",
    "   "
   ]
  },
  {
   "cell_type": "code",
   "execution_count": 12,
   "metadata": {},
   "outputs": [],
   "source": [
    "def create_result_dict():\n",
    "    '''\n",
    "    Use a module-level function, instead of lambda function, to enable pickling it\n",
    "    '''\n",
    "    return defaultdict(int)"
   ]
  },
  {
   "cell_type": "code",
   "execution_count": 13,
   "metadata": {},
   "outputs": [],
   "source": [
    "def record_words_rehearsed(item):\n",
    "    '''\n",
    "    Register amount of rehearsals per word for each wordlist\n",
    "    '''\n",
    "    rehearsed_words[current_list][item] += 1"
   ]
  },
  {
   "cell_type": "markdown",
   "metadata": {},
   "source": [
    "# Testing Creation of Plots which involves testing\n",
    "    - create_lplot(idx, xlabel, ylabel, x, y, xticks_len, filename, ytick_range=None, show=False)\n",
    "    - analysis(wlist_amount, show_plots=False)"
   ]
  },
  {
   "cell_type": "code",
   "execution_count": 14,
   "metadata": {},
   "outputs": [],
   "source": [
    "\n",
    "def create_lplot(idx, xlabel, ylabel, x, y, xticks_len, filename, ytick_range=None, show=False):\n",
    "    '''\n",
    "    Create line plot using matplotlib\n",
    "    Args:\n",
    "        Input:\n",
    "            -idx: The id of the type of plot to be made.\n",
    "                  0: Rehearse Freuency\n",
    "                  1: Starting Recall\n",
    "                  2: Recall Probability\n",
    "            -xlabel: Label for x-axis of the plot (Serial Input Position for this experiment).\n",
    "            -ylabel: Label for y-axis of the plot (One of idx 0,1 or 2).\n",
    "            -x: Serial Input Positions which depends on the length of the words list ex: range(1,20).\n",
    "                shape: (1, list_length)\n",
    "            -y: Values for the idx 0,1 or 2.\n",
    "                shape: (list_length,)\n",
    "            -xticks_len: length for ticks on x-axis, same as len(x)\n",
    "            -filename: name for saving the file\n",
    "            -ytick_range: length for ticks on y-axis, 0-1 for probabilities, None for rehearse frequency\n",
    "            -show: To show the plot here or not.\n",
    "        Output:\n",
    "            Saved plots of rehearse frequency, starting recall and recall probability.\n",
    "    '''\n",
    "    plt.figure(idx)\n",
    "    plt.xlabel(xlabel)\n",
    "    plt.ylabel(ylabel)\n",
    "    plt.plot(x, y)\n",
    "    plt.xticks(np.arange(0, xticks_len, 1)) \n",
    "    plt.yticks(ytick_range)\n",
    "    plt.savefig(\"images/\"+subject+\"_\"+filename, bbox_inches='tight')\n",
    "    if show:\n",
    "        plt.show()\n",
    " "
   ]
  },
  {
   "cell_type": "code",
   "execution_count": 15,
   "metadata": {},
   "outputs": [],
   "source": [
    "def analysis(wlist_amount, show_plots=False):\n",
    "    '''\n",
    "    Review results of the recall experiment\n",
    "    Args:\n",
    "        Input:\n",
    "            -wlist_amount: No of words inside each list\n",
    "            -show_plots: Boolean to control the display of plots after experiment\n",
    "        Output:\n",
    "            -Saved plots for rehearse frequency, starting recall and recall probability after complete analysis.\n",
    "    \n",
    "    '''\n",
    "    result_dict = defaultdict(create_result_dict) # instead of defaultdict(lambda: defaultdict(int))\n",
    "    first_recall = defaultdict(int)\n",
    "    recall_probability = defaultdict(int)\n",
    "    rehearse_frequency = defaultdict(int)\n",
    "    transitions_amnt = 0\n",
    "    thought_train_len = []\n",
    "\n",
    "    for key, val in recalled_words.items():\n",
    "        thought_train_len.extend([(k, sum(1 for _ in count)) for k, count in groupby([val[0] for val in val[2:]])])\n",
    "        for idx, (retrieved_word, item_num) in enumerate(val[2:]):\n",
    "            if idx != 0:\n",
    "                if retrieved_word != val[2:][idx-1][0]:\n",
    "                    transitions_amnt += 1/wlist_amount # average over word lists\n",
    "\n",
    "    print(f'Avg. Amount of recall transitions = {int(transitions_amnt)}')\n",
    "    neg_thought_train_len = 0\n",
    "    neg_divider = 0.0001\n",
    "    for x in thought_train_len:\n",
    "        if x[0] == 'negative':\n",
    "            neg_divider += 1\n",
    "            neg_thought_train_len += x[1]\n",
    "    print(f'Avg. Negative Thought train length = {round(neg_thought_train_len/neg_divider, 3)}')            \n",
    "\n",
    "    for list_num, wlist in word_lists_dict.items():\n",
    "        if list_num < wlist_amount:\n",
    "            for key, val in recalled_words.items():\n",
    "                if key==list_num:\n",
    "                    first_recall[wlist.index(''.join(val[0]))] += 1   \n",
    "                    for idx, word in enumerate(wlist):\n",
    "                        first_recall[idx] += 0\n",
    "                        if ((''.join(char for char in word if not char.isdigit()), \n",
    "                             ''.join(char for char in word if char.isdigit()))) in val:\n",
    "                            recall_probability[idx] += 1\n",
    "                        else:\n",
    "                            recall_probability[idx] += 0                            \n",
    "                for retrieved_word, item_num in val[2:4]:\n",
    "                    result_dict[\"pstart\"][retrieved_word] += 1  \n",
    "                for retrieved_word, item_num in val[4:-2]:\n",
    "                    result_dict[\"pstay\"][retrieved_word] += 1\n",
    "                for retrieved_word, item_num in val[-2:]:\n",
    "                    result_dict[\"pstop\"][retrieved_word] += 1                                                        \n",
    "            for key, val in rehearsed_words.items():\n",
    "                if key==list_num:\n",
    "                    for idx, word in enumerate(wlist):\n",
    "                        rehearse_frequency[idx] += rehearsed_words[key][word]\n",
    "    \n",
    "    for key, val in first_recall.items():\n",
    "        first_recall[key] = val/wlist_amount\n",
    "\n",
    "    for key, val in recall_probability.items():\n",
    "        recall_probability[key] = val/wlist_amount\n",
    "\n",
    "    for key, val in rehearse_frequency.items():\n",
    "        rehearse_frequency[key] = val/wlist_amount      \n",
    "\n",
    "    xticks_len = len(word_lists_dict[0])\n",
    "  \n",
    "    create_lplot(0, 'Serial input position', 'Rehearse Frequency', range(len(word_lists_dict[0])), list(rehearse_frequency.values()), \n",
    "                xticks_len, f'v1_rehearse_frequency_{list_length}_{list_amount}_{rehearsal_time}_{recall_time}.png', None, show_plots)\n",
    "\n",
    "    create_lplot(1, 'Serial input position', 'Starting Recall', range(len(word_lists_dict[0])), list(first_recall.values()), \n",
    "                xticks_len, f'v1_starting_recall_{list_length}_{list_amount}_{rehearsal_time}_{recall_time}.png', np.arange(0, .5, .1), show_plots)                \n",
    "\n",
    "    create_lplot(2, 'Serial input position', 'Recall Probability', range(len(word_lists_dict[0])), list(recall_probability.values()), \n",
    "                xticks_len, f'v1_recall_probability_{list_length}_{list_amount}_{rehearsal_time}_{recall_time}.png', np.arange(0, 1, .1), show_plots)   \n",
    "    \n",
    "#     create_lplot(3, 'Serial input position', 'Accuracy', range(len(word_lists_dict[0])), list(recall_accuracy.values()), \n",
    "#                 xticks_len, 'recall_accuracy.png', np.arange(0, 1, .1), show_plots) \n",
    "\n",
    "    file = open(\"results_\"+subject+\".pickle\",\"wb\")\n",
    "    pickle.dump(result_dict, file)\n",
    "    file.close()\n",
    "\n",
    "    return result_dict"
   ]
  },
  {
   "cell_type": "code",
   "execution_count": 16,
   "metadata": {},
   "outputs": [],
   "source": [
    "def do_experiment(subj=\"depressed\", human=False, wlist_amount=2000):\n",
    "    '''\n",
    "    Run the experiment\n",
    "    '''\n",
    "    global subject\n",
    "    subject = subj\n",
    "    assert wlist_amount <= len(word_lists_dict), \"Chosen too many lists, choose less or create more word lists using function: create_lists()\"\n",
    "    \n",
    "#     print(\"###################################################\\n\")\n",
    "#     print(\"The original word list \\n\")\n",
    "#     print(display_word_lists())\n",
    "    \n",
    "#     print(\"\\n###################################################\\n\")\n",
    "#     print(\"Experiment started, Trying to understand the flow\\n\")\n",
    "  \n",
    "    for idx, (key, value) in enumerate(word_lists_dict.items()):\n",
    "        actr.reset()\n",
    "        window = setup_experiment(human)\n",
    "        global current_list\n",
    "        current_list = idx # keep track for which list words are recalled\n",
    "        setup_dm(value)   \n",
    "        actr.add_command(\"retrieved-word\", record_words_recalled,\"Retrieves recalled words.\")\n",
    "        actr.add_command(\"rehearsed-word\", record_words_rehearsed,\"Retrieves rehearsed words.\")\n",
    "#         print(\"\\n##################  Model started rehearsal \")\n",
    "        for word in value:\n",
    "            if \"neutral\" in word:\n",
    "                color = \"black\"\n",
    "            elif \"positive\" in word:\n",
    "                color = \"green\"\n",
    "            else:\n",
    "                color = \"red\"\n",
    "            actr.add_text_to_exp_window(window, word, x=475-len(word) , y=374, color=color, font_size=20) # change later \n",
    "            actr.run(rehearsal_time, human) # True when choosing Human, False when choosing differently\n",
    "            actr.clear_exp_window(window)\n",
    "            actr.run(delay, human)  # 500-ms blank screen                        \n",
    "        prepare_for_recall()       \n",
    "        actr.remove_command(\"rehearsed-word\")\n",
    "#         print(\"\\n##################  Model finished rehearsal, list of rehearsed words is \")\n",
    "#         print(f'{rehearsed_words}\\n')\n",
    "#         print(\"\\n##################  Model started recall \")\n",
    "        actr.goal_focus(\"startrecall\") # set goal to start recalling\n",
    "        actr.run(recall_time, human)  \n",
    "        actr.remove_command(\"retrieved-word\")\n",
    "#         print(\"\\n##################  Model finished recall, list of recalled words is \")\n",
    "#         print(f'{recalled_words}\\n')\n",
    "        print(f'Experiment {idx+1}/{wlist_amount} completed!', end=\"\\r\")\n",
    "        if idx == wlist_amount-1: # run for a chosen amount of word lists\n",
    "            break\n",
    "    close_exp_window() # close window at end of experiment     \n",
    "\n",
    "    avg_recalled, avg_recalled_unique = 0, 0\n",
    "    for key, val in recalled_words.items():\n",
    "        avg_recalled += len(val)\n",
    "        avg_recalled_unique += len(set(val))\n",
    "    #    print(f'\\nList {key} (length={len(val)}, unique={len(set(val))})')\n",
    "\n",
    "    print(\"\\n\\n#############################################\")\n",
    "    print(f'\\n[{subj}] Results!\\n')  \n",
    "\n",
    "    result = analysis(wlist_amount, False)        \n",
    "    print(f'Avg. Amount of words recalled = {avg_recalled//wlist_amount}')\n",
    "    print(f'Avg. Amount of unique words recalled = {avg_recalled_unique//wlist_amount}')\n",
    "\n",
    "    for key, val in result.items():\n",
    "        print(f'{key} = {dict(val)}')\n",
    "    print()\n",
    " "
   ]
  },
  {
   "cell_type": "code",
   "execution_count": 17,
   "metadata": {},
   "outputs": [],
   "source": [
    "# word_lists_dict[2],len(word_lists_dict)"
   ]
  },
  {
   "cell_type": "code",
   "execution_count": 18,
   "metadata": {},
   "outputs": [
    {
     "name": "stdout",
     "output_type": "stream",
     "text": [
      "Experiment 50/50 completed!\n",
      "\n",
      "#############################################\n",
      "\n",
      "[controls] Results!\n",
      "\n",
      "Avg. Amount of recall transitions = 12\n",
      "Avg. Negative Thought train length = 1.369\n",
      "Avg. Amount of words recalled = 22\n",
      "Avg. Amount of unique words recalled = 17\n",
      "pstart = {'negative': 1350, 'positive': 1550, 'neutral': 2050}\n",
      "pstay = {'neutral': 15450, 'negative': 11600, 'positive': 13450}\n",
      "pstop = {'positive': 1550, 'negative': 950, 'neutral': 2500}\n",
      "\n"
     ]
    },
    {
     "data": {
      "image/png": "[encoded data removed]",
      "text/plain": [
       "<Figure size 432x288 with 1 Axes>"
      ]
     },
     "metadata": {
      "needs_background": "light"
     },
     "output_type": "display_data"
    },
    {
     "data": {
      "image/png": "[encoded data removed]",
      "text/plain": [
       "<Figure size 432x288 with 1 Axes>"
      ]
     },
     "metadata": {
      "needs_background": "light"
     },
     "output_type": "display_data"
    },
    {
     "data": {
      "image/png": "[encoded data removed]",
      "text/plain": [
       "<Figure size 432x288 with 1 Axes>"
      ]
     },
     "metadata": {
      "needs_background": "light"
     },
     "output_type": "display_data"
    }
   ],
   "source": [
    "do_experiment('controls',False,list_amount)\n"
   ]
  },
  {
   "cell_type": "markdown",
   "metadata": {},
   "source": [
    "## Backup Reminder : DO IT!"
   ]
  },
  {
   "cell_type": "markdown",
   "metadata": {},
   "source": [
    "# Here only the positions matter not the word?"
   ]
  },
  {
   "cell_type": "code",
   "execution_count": null,
   "metadata": {},
   "outputs": [],
   "source": []
  }
 ],
 "metadata": {
  "kernelspec": {
   "display_name": "Python 3",
   "language": "python",
   "name": "python3"
  },
  "language_info": {
   "codemirror_mode": {
    "name": "ipython",
    "version": 3
   },
   "file_extension": ".py",
   "mimetype": "text/x-python",
   "name": "python",
   "nbconvert_exporter": "python",
   "pygments_lexer": "ipython3",
   "version": "3.8.5"
  }
 },
 "nbformat": 4,
 "nbformat_minor": 4
}
