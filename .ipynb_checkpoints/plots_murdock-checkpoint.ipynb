{
 "cells": [
  {
   "cell_type": "code",
   "execution_count": 1,
   "metadata": {},
   "outputs": [],
   "source": [
    "import json\n",
    "import matplotlib.pyplot as plt\n",
    "%matplotlib inline\n",
    "import os\n",
    "import fnmatch\n",
    "import numpy as np"
   ]
  },
  {
   "cell_type": "code",
   "execution_count": 2,
   "metadata": {},
   "outputs": [],
   "source": [
    "max_list_length = 44\n",
    "#list_length = 20\n",
    "delay = 0"
   ]
  },
  {
   "cell_type": "code",
   "execution_count": 3,
   "metadata": {},
   "outputs": [],
   "source": [
    "os.chdir('murdock/')\n",
    "#os.listdir(word_list_dir)"
   ]
  },
  {
   "cell_type": "code",
   "execution_count": 4,
   "metadata": {},
   "outputs": [],
   "source": [
    "image_path = \"./\""
   ]
  },
  {
   "cell_type": "code",
   "execution_count": 5,
   "metadata": {},
   "outputs": [
    {
     "name": "stdout",
     "output_type": "stream",
     "text": [
      "['words_15_lists_100_rh_time_2_rec_time_90_delay_0_0.txt', 'words_20_lists_100_rh_time_1_rec_time_90_delay_0_0.txt', 'words_20_lists_100_rh_time_2_rec_time_90_delay_0_0.txt', 'words_44_lists_100_rh_time_1_rec_time_90_delay_0_0.txt']\n"
     ]
    }
   ],
   "source": [
    "#pattern = f\"words_{list_length}_lists_*.txt\" # Pattern for matching the filename for data retreival\n",
    "files = [] #Storing all the relevant files to work on them later\n",
    "for file in os.listdir(): #Lists all the files and directories within the folder\n",
    "    #if fnmatch.fnmatch(file, pattern): #matches the above declared patter with the filenames from listdir()\n",
    "        #print(file)\n",
    "    files.append(file) #Appends to files to make it available for later use.\n",
    "print(files)"
   ]
  },
  {
   "cell_type": "code",
   "execution_count": 6,
   "metadata": {},
   "outputs": [],
   "source": [
    "# Initializing all the parameters needed for the plots\n",
    "\n",
    "idx = [0,1,2]\n",
    "xlabel = 'Serial Input Position'\n",
    "ylabel = ['Rehearse Frequency','Starting Probability','Recall Probability']\n",
    "xticks_len = max_list_length\n",
    "rehearse_frequency = []\n",
    "recall_probability = []\n",
    "first_recall = []"
   ]
  },
  {
   "cell_type": "code",
   "execution_count": 7,
   "metadata": {},
   "outputs": [],
   "source": [
    "for file in files:\n",
    "    with open(file) as f:\n",
    "        results = json.load(f)\n",
    "        #print(results,results['rehearse_frequency']['data'])\n",
    "        rehearse_frequency.append(results['rehearse_frequency']['data'])\n",
    "        recall_probability.append(results['recall_probability']['data'])\n",
    "        first_recall.append(results['first_recall']['data'])"
   ]
  },
  {
   "cell_type": "code",
   "execution_count": 8,
   "metadata": {},
   "outputs": [
    {
     "data": {
      "text/plain": [
       "[[0.71,\n",
       "  0.66,\n",
       "  0.7,\n",
       "  0.61,\n",
       "  0.27,\n",
       "  0.4,\n",
       "  0.31,\n",
       "  0.27,\n",
       "  0.21,\n",
       "  0.21,\n",
       "  0.19,\n",
       "  0.28,\n",
       "  0.39,\n",
       "  0.48,\n",
       "  0.52],\n",
       " [0.46,\n",
       "  0.45,\n",
       "  0.29,\n",
       "  0.21,\n",
       "  0.23,\n",
       "  0.15,\n",
       "  0.08,\n",
       "  0.19,\n",
       "  0.11,\n",
       "  0.14,\n",
       "  0.14,\n",
       "  0.17,\n",
       "  0.15,\n",
       "  0.17,\n",
       "  0.17,\n",
       "  0.26,\n",
       "  0.24,\n",
       "  0.3,\n",
       "  0.3,\n",
       "  0.46],\n",
       " [0.89,\n",
       "  0.85,\n",
       "  0.88,\n",
       "  0.82,\n",
       "  0.58,\n",
       "  0.61,\n",
       "  0.64,\n",
       "  0.52,\n",
       "  0.53,\n",
       "  0.52,\n",
       "  0.48,\n",
       "  0.41,\n",
       "  0.47,\n",
       "  0.47,\n",
       "  0.41,\n",
       "  0.31,\n",
       "  0.34,\n",
       "  0.41,\n",
       "  0.44,\n",
       "  0.53],\n",
       " [0.8,\n",
       "  0.64,\n",
       "  0.44,\n",
       "  0.43,\n",
       "  0.42,\n",
       "  0.3,\n",
       "  0.31,\n",
       "  0.21,\n",
       "  0.22,\n",
       "  0.26,\n",
       "  0.25,\n",
       "  0.22,\n",
       "  0.25,\n",
       "  0.23,\n",
       "  0.26,\n",
       "  0.33,\n",
       "  0.31,\n",
       "  0.31,\n",
       "  0.27,\n",
       "  0.2,\n",
       "  0.25,\n",
       "  0.28,\n",
       "  0.29,\n",
       "  0.3,\n",
       "  0.29,\n",
       "  0.25,\n",
       "  0.18,\n",
       "  0.18,\n",
       "  0.25,\n",
       "  0.24,\n",
       "  0.33,\n",
       "  0.22,\n",
       "  0.2,\n",
       "  0.24,\n",
       "  0.17,\n",
       "  0.31,\n",
       "  0.27,\n",
       "  0.22,\n",
       "  0.21,\n",
       "  0.18,\n",
       "  0.27,\n",
       "  0.32,\n",
       "  0.27,\n",
       "  0.34]]"
      ]
     },
     "execution_count": 8,
     "metadata": {},
     "output_type": "execute_result"
    }
   ],
   "source": [
    "recall_probability"
   ]
  },
  {
   "cell_type": "code",
   "execution_count": 11,
   "metadata": {},
   "outputs": [
    {
     "data": {
      "image/png": "[encoded data removed]",
      "text/plain": [
       "<Figure size 432x288 with 1 Axes>"
      ]
     },
     "metadata": {
      "needs_background": "light"
     },
     "output_type": "display_data"
    }
   ],
   "source": [
    "f, ax = plt.subplots(1)\n",
    "\n",
    "# for i in range(len(files)):\n",
    "#     print(files[i])\n",
    "x = range(15)\n",
    "ax.plot(x, recall_probability[0], label = \"15 items, 2 sec\")\n",
    "\n",
    "x = range(20)\n",
    "ax.plot(x, recall_probability[1], label = \"20 items, 2 sec\")\n",
    "\n",
    "x = range(20)\n",
    "ax.plot(x, recall_probability[2], label = \"20 items, 1 sec\")\n",
    "\n",
    "x = range(44)\n",
    "ax.plot(x, recall_probability[3], label = \"44 items, 1 sec\")\n",
    "\n",
    "#ax.legend(legends)\n",
    "ax.set_xlabel(xlabel)\n",
    "ax.set_ylabel(ylabel[2])\n",
    "#ax.set_xlim([0, list_length])\n",
    "ax.set_ylim([0, 1])\n",
    "ax.legend()\n",
    "ax.set_title('Serial Position vs Recall Probability')\n",
    "f.savefig(image_path + \"Recall Probability.png\")\n",
    "plt.show()"
   ]
  },
  {
   "cell_type": "code",
   "execution_count": null,
   "metadata": {},
   "outputs": [],
   "source": []
  }
 ],
 "metadata": {
  "kernelspec": {
   "display_name": "Python 3",
   "language": "python",
   "name": "python3"
  },
  "language_info": {
   "codemirror_mode": {
    "name": "ipython",
    "version": 3
   },
   "file_extension": ".py",
   "mimetype": "text/x-python",
   "name": "python",
   "nbconvert_exporter": "python",
   "pygments_lexer": "ipython3",
   "version": "3.8.5"
  }
 },
 "nbformat": 4,
 "nbformat_minor": 4
}
